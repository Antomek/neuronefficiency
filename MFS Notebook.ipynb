{
 "cells": [
  {
   "cell_type": "code",
   "execution_count": 103,
   "metadata": {
    "collapsed": true
   },
   "outputs": [],
   "source": [
    "import numpy as np\n",
    "import scipy as sp\n",
    "import scipy.integrate as sp_int\n",
    "import matplotlib.pyplot as plt\n",
    "import matplotlib"
   ]
  },
  {
   "cell_type": "code",
   "execution_count": 104,
   "metadata": {
    "collapsed": true
   },
   "outputs": [],
   "source": [
    "# Set up the constants\n",
    "C_m  = 1 # membrane capacitance (uF/cm^2)\n",
    "g_Na = 112.5 # maximum conductances (mS/cm^2)\n",
    "g_K  = 225\n",
    "g_l  = 0.25\n",
    "g_d  = 0.39\n",
    "theta_m = -22   # half-maximum, a parameter in the original paper\n",
    "                # NB: theta_m is not given by parameters from supplemental information in paper\n",
    "E_Na = 50 # reversal potentials (mV)\n",
    "E_K  = -90\n",
    "E_l  = -70"
   ]
  },
  {
   "cell_type": "code",
   "execution_count": 105,
   "metadata": {
    "collapsed": true
   },
   "outputs": [],
   "source": [
    "# equations governing opening/closing rates.\n",
    "def m_inf(V): return (1 + np.exp(-(V - theta_m)/11.5))**(-1)\n",
    "def h_inf(V): return (1 + np.exp((V + 58.3)/6.7))\n",
    "def tau_h(V): return 0.5 + 14*((1 + np.exp((V + 60)/12))**(-1))\n",
    "def n_inf(V): return (1 + np.exp(-(V + 12.4)/6.8))**(-1)\n",
    "def tau_n(V): return ((0.087 + 11.4 * ((1 + np.exp(V + 14.6)/8.6)**(-1))) *\n",
    "        (0.087 + 11.4 * ((1 + np.exp(-(V - 1.3)/18.7))**(-1))))\n",
    "def a_inf(V): return (1 + np.exp(-(V + 50)/20))**(-1)\n",
    "def b_inf(V): return (1 + np.exp((V + 70)/6))**(-1)\n",
    "tau_a = 2\n",
    "tau_b = 150"
   ]
  },
  {
   "cell_type": "code",
   "execution_count": null,
   "metadata": {
    "collapsed": true
   },
   "outputs": [],
   "source": []
  },
  {
   "cell_type": "code",
   "execution_count": 106,
   "metadata": {
    "collapsed": true
   },
   "outputs": [],
   "source": [
    "# define the currents of the model\n",
    "def I_K(V, n): return g_K * (n**2) * (V - E_K)\n",
    "def I_Na(V, h): return (m_inf(V)**3) * h * (V - E_Na)\n",
    "def I_d(V, a, b): return g_d * (a**3) * b * (V - E_K)\n",
    "def I_l(V): return g_l * (V - E_l)"
   ]
  },
  {
   "cell_type": "code",
   "execution_count": 107,
   "metadata": {
    "collapsed": true
   },
   "outputs": [],
   "source": [
    "# define function that is time derivative of voltage: f = dV/dt\n",
    "def f(t, y):\n",
    "    # set external current: make sure it is 0 for large times.\n",
    "    if 0 < t <= 10:\n",
    "        I_e = 3\n",
    "    else:\n",
    "        I_e = 0\n",
    "    # set noise current in input\n",
    "    D = 0\n",
    "    I_noise = np.sqrt(2*D*np.random.normal(0, 1))\n",
    "    # set the variables that are to be integrated\n",
    "    V, n, h, a, b = y\n",
    "\n",
    "    # define DV/dt ('_dot' denotes time differentiation)\n",
    "    V_dot = 1/C_m * (I_e + I_noise - (I_K(V, n) + I_Na(V, h) + I_d(V, a, b) + I_l(V)))\n",
    "\n",
    "    # enter the equations controlling the gating variables.\n",
    "    n_dot = (n_inf(V) - n) / tau_n(V)\n",
    "    h_dot = (h_inf(V) - h) / tau_h(V)\n",
    "    a_dot = (a_inf(V) - a) / tau_a\n",
    "    b_dot = (b_inf(V) - b) / tau_b\n",
    "\n",
    "    # since y = [V, n, h, a, b] we return [V_dot, n_dot, h_dot, a_dot, b_dot]\n",
    "    return [V_dot, n_dot, h_dot, a_dot, b_dot]"
   ]
  },
  {
   "cell_type": "code",
   "execution_count": 110,
   "metadata": {
    "collapsed": true
   },
   "outputs": [],
   "source": [
    "# enter intial values for V, n, m, h\n",
    "V_0 = -72\n",
    "n_0 = n_inf(V_0)\n",
    "h_0 = h_inf(V_0)\n",
    "a_0 = a_inf(V_0)\n",
    "b_0 = b_inf(V_0)\n",
    "y_0 = [V_0, n_0, h_0, a_0, b_0]"
   ]
  },
  {
   "cell_type": "code",
   "execution_count": 111,
   "metadata": {
    "collapsed": false
   },
   "outputs": [
    {
     "name": "stderr",
     "output_type": "stream",
     "text": [
      "/Users/Thomas/anaconda3/lib/python3.5/site-packages/ipykernel/__main__.py:2: RuntimeWarning: overflow encountered in exp\n",
      "  from ipykernel import kernelapp as app\n",
      "/Users/Thomas/anaconda3/lib/python3.5/site-packages/ipykernel/__main__.py:5: RuntimeWarning: overflow encountered in exp\n",
      "/Users/Thomas/anaconda3/lib/python3.5/site-packages/ipykernel/__main__.py:7: RuntimeWarning: overflow encountered in exp\n",
      "/Users/Thomas/anaconda3/lib/python3.5/site-packages/ipykernel/__main__.py:8: RuntimeWarning: overflow encountered in exp\n"
     ]
    },
    {
     "data": {
      "image/png": "[encoded data removed]",
      "text/plain": [
       "<matplotlib.figure.Figure at 0x1196bcf28>"
      ]
     },
     "metadata": {},
     "output_type": "display_data"
    }
   ],
   "source": [
    "# create timescale. t_interval is the time interval in which to calculate the solution.\n",
    "# t_points are the points at which the solution is stored.\n",
    "t_interval = (0.0, 100.0)\n",
    "numpoints = 1000\n",
    "t_points = np.linspace(t_interval[0], t_interval[1], numpoints)\n",
    "\n",
    "# solve coupled ODEs with scipy's solver\n",
    "soln = sp_int.solve_ivp(f, t_interval, y_0, 'RK45', t_points)\n",
    "\n",
    "# plot & show solution\n",
    "plt.plot(soln.t, soln.y[0, :], 'b')\n",
    "plt.show()\n"
   ]
  },
  {
   "cell_type": "code",
   "execution_count": null,
   "metadata": {
    "collapsed": true
   },
   "outputs": [],
   "source": []
  },
  {
   "cell_type": "code",
   "execution_count": null,
   "metadata": {
    "collapsed": true
   },
   "outputs": [],
   "source": []
  },
  {
   "cell_type": "code",
   "execution_count": null,
   "metadata": {
    "collapsed": true
   },
   "outputs": [],
   "source": []
  }
 ],
 "metadata": {
  "kernelspec": {
   "display_name": "Python [conda env:anaconda3]",
   "language": "python",
   "name": "conda-env-anaconda3-py"
  },
  "language_info": {
   "codemirror_mode": {
    "name": "ipython",
    "version": 3
   },
   "file_extension": ".py",
   "mimetype": "text/x-python",
   "name": "python",
   "nbconvert_exporter": "python",
   "pygments_lexer": "ipython3",
   "version": "3.5.2"
  }
 },
 "nbformat": 4,
 "nbformat_minor": 2
}
