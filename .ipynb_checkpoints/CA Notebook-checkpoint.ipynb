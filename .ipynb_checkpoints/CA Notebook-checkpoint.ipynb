{
 "cells": [
  {
   "cell_type": "code",
   "execution_count": 1,
   "metadata": {
    "collapsed": true
   },
   "outputs": [],
   "source": [
    "import numpy as np\n",
    "import scipy as sp\n",
    "import scipy.integrate as sp_int\n",
    "import matplotlib.pyplot as plt\n",
    "import matplotlib"
   ]
  },
  {
   "cell_type": "code",
   "execution_count": 2,
   "metadata": {
    "collapsed": true
   },
   "outputs": [],
   "source": [
    "# Set up the constants\n",
    "C_m  = 1 # membrane capacitance (uF/cm^2)\n",
    "g_Na = 120 # maximum conductances (mS/cm^2)\n",
    "g_K  = 20\n",
    "g_A  = 47.7\n",
    "g_l  = 0.3\n",
    "E_Na = 55 # reversal potentials (mV)\n",
    "E_K  = -72\n",
    "E_A = -75\n",
    "E_l  = -17"
   ]
  },
  {
   "cell_type": "code",
   "execution_count": 3,
   "metadata": {
    "collapsed": true
   },
   "outputs": [],
   "source": [
    "# equations governing opening/closing rates.\n",
    "MSHFT = -5.3\n",
    "HSHFT = -12\n",
    "NSHFT = -4.3\n",
    "def a_n(V): return -0.01 * (V + 50 + NSHFT) / (np.exp(-(V + 50 + NSHFT)/10) - 1)\n",
    "def b_n(V): return 0.125 * np.exp(-(V + 60 + NSHFT)/80)\n",
    "def a_m(V): return -0.1 * (V + 35 + MSHFT) / (np.exp(-(V + 35 + MSHFT)/10 - 1))\n",
    "def b_m(V): return 4 * np.exp(-(V + 60 + MSHFT)/18)\n",
    "def a_h(V): return 0.07 * np.exp(-(V + 60 + HSHFT)/20)\n",
    "def b_h(V): return 1 / (np.exp(-(V + 30 + HSHFT)/10 + 1))"
   ]
  },
  {
   "cell_type": "code",
   "execution_count": 4,
   "metadata": {
    "collapsed": true
   },
   "outputs": [],
   "source": [
    "# equations that determine the gating variables differential equations\n",
    "def tau_n(V): return (2/3.8) / (a_n(V) + b_n(V))\n",
    "def n_inf(V): return a_n(V) / (a_n(V) + b_n(V))\n",
    "def tau_m(V): return (1/3.8) / (a_m(V) + b_m(V))\n",
    "def m_inf(V): return a_m(V) / (a_m(V) + b_m(V))\n",
    "def tau_h(V): return (1/3.8) / (a_h(V) + b_h(V))\n",
    "def h_inf(V): return a_h(V) / (a_h(V) + b_h(V))\n",
    "def A_inf(V): return (0.0761 * np.exp((V + 94.22)/31.84) / (1 + np.exp((V + 1.17) / 28.93)))**(1/3)\n",
    "def tau_A(V): return 0.3632 + 1.158 / (1 + np.exp((V + 55.96) / 20.12))\n",
    "def B_inf(V): return 1 / ((1 + np.exp((V + 53.3) / 14.54))**4)\n",
    "def tau_B(V): return 1.24 + 2.678 / (1 + np.exp((V + 50) / 16.027))"
   ]
  },
  {
   "cell_type": "code",
   "execution_count": 5,
   "metadata": {
    "collapsed": true
   },
   "outputs": [],
   "source": [
    "# define the currents in the model\n",
    "def I_Na(V, m ,h): return g_Na * (m**3) * h * (V - E_Na)\n",
    "def I_K(V, n): return g_K * (n**4) * (V - E_K)\n",
    "def I_A(V, A, B): return g_A * (A**3) * B * (V - E_A)\n",
    "def I_l(V): return g_l * (V - E_l)"
   ]
  },
  {
   "cell_type": "code",
   "execution_count": 6,
   "metadata": {
    "collapsed": true
   },
   "outputs": [],
   "source": [
    "# define function that is time derivative of voltage: f = dV/dt\n",
    "def f(t, y):\n",
    "    # set external current: make sure it is 0 for large times.\n",
    "    if 50 < t <= 51:\n",
    "        I_e = 50\n",
    "    else:\n",
    "        I_e = 0\n",
    "    # set the variables that are to be integrated\n",
    "    V, n, m, h, A, B = y\n",
    "    # define DV/dt ('_dot' denotes time differentiation)\n",
    "    V_dot = 1/C_m * (I_e - (I_K(V, n) + I_Na(V, m, h) + I_A(V, A, B) + I_l(V)))\n",
    "\n",
    "    # enter the equations controlling the gating variables.\n",
    "    n_dot = (n_inf(V) - n) / tau_n(V)\n",
    "    m_dot = (m_inf(V) - m) / tau_m(V)\n",
    "    h_dot = (h_inf(V) - h) / tau_h(V)\n",
    "    A_dot = (A_inf(V) - A) / tau_A(V)\n",
    "    B_dot = (B_inf(V) - B) / tau_B(V)\n",
    "    # since w = [V, n, m, h] we return [V_dot, n_dot, m_dot, h_dot, A_dot, B_dot]\n",
    "    return [V_dot, n_dot, m_dot, h_dot, A_dot, B_dot]"
   ]
  },
  {
   "cell_type": "code",
   "execution_count": 7,
   "metadata": {
    "collapsed": true
   },
   "outputs": [],
   "source": [
    "# enter intial values for V, n, m, h\n",
    "V_0 = -35\n",
    "n_0 = n_inf(V_0)\n",
    "m_0 = m_inf(V_0)\n",
    "h_0 = h_inf(V_0)\n",
    "A_0 = A_inf(V_0)\n",
    "B_0 = B_inf(V_0)\n",
    "y_0 = [V_0, n_0, m_0, h_0, A_0, B_0]"
   ]
  },
  {
   "cell_type": "code",
   "execution_count": 8,
   "metadata": {
    "collapsed": true
   },
   "outputs": [],
   "source": [
    "# create timescale. t_interval is the time interval in which to calculate the solution.\n",
    "# t_points are the points at which the solution is stored.\n",
    "t_interval = (0.0, 100.0)\n",
    "numpoints = 1000\n",
    "t_points = np.linspace(t_interval[0], t_interval[1], numpoints)"
   ]
  },
  {
   "cell_type": "code",
   "execution_count": 9,
   "metadata": {
    "collapsed": false
   },
   "outputs": [
    {
     "name": "stderr",
     "output_type": "stream",
     "text": [
      "/Users/Thomas/anaconda3/lib/python3.5/site-packages/ipykernel/__main__.py:7: RuntimeWarning: divide by zero encountered in double_scalars\n",
      "/Users/Thomas/anaconda3/lib/python3.5/site-packages/ipykernel/__main__.py:5: RuntimeWarning: invalid value encountered in double_scalars\n",
      "/Users/Thomas/anaconda3/lib/python3.5/site-packages/ipykernel/__main__.py:10: RuntimeWarning: divide by zero encountered in double_scalars\n",
      "/Users/Thomas/anaconda3/lib/python3.5/site-packages/ipykernel/__main__.py:16: RuntimeWarning: divide by zero encountered in double_scalars\n",
      "/Users/Thomas/anaconda3/lib/python3.5/site-packages/ipykernel/__main__.py:8: RuntimeWarning: overflow encountered in exp\n",
      "/Users/Thomas/anaconda3/lib/python3.5/site-packages/ipykernel/__main__.py:8: RuntimeWarning: invalid value encountered in double_scalars\n",
      "/Users/Thomas/anaconda3/lib/python3.5/site-packages/ipykernel/__main__.py:9: RuntimeWarning: overflow encountered in exp\n",
      "/Users/Thomas/anaconda3/lib/python3.5/site-packages/ipykernel/__main__.py:10: RuntimeWarning: overflow encountered in exp\n",
      "/Users/Thomas/anaconda3/lib/python3.5/site-packages/ipykernel/__main__.py:11: RuntimeWarning: overflow encountered in exp\n"
     ]
    }
   ],
   "source": [
    "# solve coupled ODEs with scipy's solver\n",
    "soln = sp_int.solve_ivp(f, t_interval, y_0, 'RK45', t_points)\n",
    "\n",
    "V = soln.y[0, :]\n",
    "n = soln.y[1, :]\n",
    "m = soln.y[2, :]\n",
    "h = soln.y[3, :]\n",
    "A = soln.y[4, :]\n",
    "B = soln.y[5, :]"
   ]
  },
  {
   "cell_type": "code",
   "execution_count": 10,
   "metadata": {
    "collapsed": false
   },
   "outputs": [
    {
     "data": {
      "image/png": "[encoded data removed]",
      "text/plain": [
       "<matplotlib.figure.Figure at 0x117206ac8>"
      ]
     },
     "metadata": {},
     "output_type": "display_data"
    }
   ],
   "source": [
    "# plot & show solution\n",
    "plt.plot(soln.t, soln.y[0, :], 'b')\n",
    "plt.ylabel('Voltage (mv)')\n",
    "plt.xlabel('Time (ms)')\n",
    "plt.show()"
   ]
  },
  {
   "cell_type": "code",
   "execution_count": null,
   "metadata": {
    "collapsed": true
   },
   "outputs": [],
   "source": []
  }
 ],
 "metadata": {
  "kernelspec": {
   "display_name": "Python [conda env:anaconda3]",
   "language": "python",
   "name": "conda-env-anaconda3-py"
  },
  "language_info": {
   "codemirror_mode": {
    "name": "ipython",
    "version": 3
   },
   "file_extension": ".py",
   "mimetype": "text/x-python",
   "name": "python",
   "nbconvert_exporter": "python",
   "pygments_lexer": "ipython3",
   "version": "3.5.2"
  }
 },
 "nbformat": 4,
 "nbformat_minor": 2
}
