{
 "cells": [
  {
   "cell_type": "code",
   "execution_count": 1,
   "metadata": {
    "collapsed": true
   },
   "outputs": [],
   "source": [
    "import numpy as np\n",
    "import scipy as sp\n",
    "import scipy.integrate as sp_int\n",
    "import matplotlib.pyplot as plt\n",
    "import matplotlib"
   ]
  },
  {
   "cell_type": "code",
   "execution_count": 2,
   "metadata": {
    "collapsed": true
   },
   "outputs": [],
   "source": [
    "# Set up the constants\n",
    "C_m  = 1 # membrane capacitance (uF/cm^2)\n",
    "g_Na = 120 # maximum conductances (mS/cm^2)\n",
    "g_K  = 36\n",
    "g_l  = 0.3\n",
    "E_Na = 50 # reversal potentials (mV)\n",
    "E_K  = -77\n",
    "E_l  = -55"
   ]
  },
  {
   "cell_type": "code",
   "execution_count": 3,
   "metadata": {
    "collapsed": true
   },
   "outputs": [],
   "source": [
    "# equations governing opening/closing rates.\n",
    "def tau_m(V): return -1/(0.1*(V+40)/(1-np.exp(-(V+40)/10))+4*np.exp(-(V+65)/18))\n",
    "def m_inf(V): return -(0.1*(V+40)/(1-np.exp(-(V+40)/10)))*tau_m(V)\n",
    "def tau_n(V): return -1/(0.01*(V+55)/(1-np.exp(-(V+55)/10))+0.125*np.exp(-(V+65)/80))\n",
    "def n_inf(V): return -(0.01*(V+55)/(1-np.exp(-(V+55)/10)))*tau_n(V)\n",
    "def tau_h(V): return -1/(0.07*np.exp(-(V+65)/20)+(1/(1+np.exp(-(V+35)/10))))\n",
    "def h_inf(V): return -0.07*np.exp(-(V+65)/20)*tau_h(V)\n",
    "\n",
    "# define the currents in the model\n",
    "def I_Na(V, m, h): return g_Na * (m**3)* h * (V - E_Na)\n",
    "def I_K(V, n): return g_K * (n**4) * (V - E_K)\n",
    "def I_l(V): return g_l * (V - E_l)"
   ]
  },
  {
   "cell_type": "code",
   "execution_count": 4,
   "metadata": {
    "collapsed": true
   },
   "outputs": [],
   "source": [
    "# define function that will return time derivatives for integration\n",
    "def f(t, y):\n",
    "    # set external current: make sure it is 0 for large times.\n",
    "    if t <= 1:\n",
    "        I_e = 50\n",
    "    else:\n",
    "        I_e = 0\n",
    "    # set the variables that are to be integrated\n",
    "    V, n, m, h = y\n",
    "    # define DV/dt ('_dot' denotes time differentiation)\n",
    "    V_dot = 1/C_m * (I_e - (I_K(V, n) + I_Na(V, m, h) + I_l(V)))\n",
    "    # enter the equations controlling the gating variables.\n",
    "    n_dot = (n - n_inf(V)) / tau_n(V)\n",
    "    m_dot = (m - m_inf(V)) / tau_m(V)\n",
    "    h_dot = (h - h_inf(V)) / tau_h(V)\n",
    "    return [V_dot, n_dot, m_dot, h_dot]"
   ]
  },
  {
   "cell_type": "code",
   "execution_count": 5,
   "metadata": {
    "collapsed": true
   },
   "outputs": [],
   "source": [
    "# enter intial values for V, n, m, h\n",
    "V_0 = -65\n",
    "n_0 = 0.317\n",
    "m_0 = 0.052\n",
    "h_0 = 0.596\n",
    "y_0 = [V_0, n_0, m_0, h_0]"
   ]
  },
  {
   "cell_type": "code",
   "execution_count": 6,
   "metadata": {
    "collapsed": true
   },
   "outputs": [],
   "source": [
    "# create timescale. t_interval is the time interval in which to calculate the solution.\n",
    "# t_points are the points at which the solution is stored.\n",
    "t_interval = (0.0, 40.0)\n",
    "numpoints = 1000\n",
    "t_points = np.linspace(t_interval[0], t_interval[1], numpoints)"
   ]
  },
  {
   "cell_type": "code",
   "execution_count": 7,
   "metadata": {
    "collapsed": true
   },
   "outputs": [],
   "source": [
    "# solve coupled ODEs with scipy's solver\n",
    "soln = sp_int.solve_ivp(f, t_interval, y_0, 'RK45', t_points)\n",
    "\n",
    "V = soln.y[0, :]\n",
    "n = soln.y[1, :]\n",
    "m = soln.y[2, :]\n",
    "h = soln.y[3, :]"
   ]
  },
  {
   "cell_type": "code",
   "execution_count": 15,
   "metadata": {
    "collapsed": false
   },
   "outputs": [
    {
     "ename": "IndexError",
     "evalue": "too many indices for array",
     "output_type": "error",
     "traceback": [
      "\u001b[0;31m---------------------------------------------------------------------------\u001b[0m",
      "\u001b[0;31mIndexError\u001b[0m                                Traceback (most recent call last)",
      "\u001b[0;32m<ipython-input-15-bfc243137b14>\u001b[0m in \u001b[0;36m<module>\u001b[0;34m()\u001b[0m\n\u001b[1;32m     16\u001b[0m \u001b[0max2\u001b[0m\u001b[0;34m.\u001b[0m\u001b[0mset_ylabel\u001b[0m\u001b[0;34m(\u001b[0m\u001b[0;34m'Probability'\u001b[0m\u001b[0;34m)\u001b[0m\u001b[0;34m\u001b[0m\u001b[0m\n\u001b[1;32m     17\u001b[0m \u001b[0max2\u001b[0m\u001b[0;34m.\u001b[0m\u001b[0mset_xlabel\u001b[0m\u001b[0;34m(\u001b[0m\u001b[0;34m'Time (ms)'\u001b[0m\u001b[0;34m)\u001b[0m\u001b[0;34m\u001b[0m\u001b[0m\n\u001b[0;32m---> 18\u001b[0;31m \u001b[0max3\u001b[0m\u001b[0;34m.\u001b[0m\u001b[0mplot\u001b[0m\u001b[0;34m(\u001b[0m\u001b[0msoln\u001b[0m\u001b[0;34m.\u001b[0m\u001b[0mt\u001b[0m\u001b[0;34m[\u001b[0m\u001b[0mt_i\u001b[0m\u001b[0;34m:\u001b[0m\u001b[0mt_f\u001b[0m\u001b[0;34m]\u001b[0m\u001b[0;34m,\u001b[0m \u001b[0;34m[\u001b[0m\u001b[0mm_i\u001b[0m \u001b[0;34m-\u001b[0m \u001b[0;34m(\u001b[0m\u001b[0;34m(\u001b[0m\u001b[0;36m1\u001b[0m \u001b[0;34m-\u001b[0m \u001b[0mh_i\u001b[0m\u001b[0;34m)\u001b[0m \u001b[0;34m+\u001b[0m \u001b[0mn_i\u001b[0m\u001b[0;34m)\u001b[0m \u001b[0;32mfor\u001b[0m \u001b[0mm_i\u001b[0m\u001b[0;34m,\u001b[0m \u001b[0mh_i\u001b[0m\u001b[0;34m,\u001b[0m \u001b[0mn_i\u001b[0m \u001b[0;32min\u001b[0m \u001b[0mzip\u001b[0m\u001b[0;34m(\u001b[0m\u001b[0mm\u001b[0m\u001b[0;34m[\u001b[0m\u001b[0mt_i\u001b[0m\u001b[0;34m,\u001b[0m \u001b[0mt_f\u001b[0m\u001b[0;34m]\u001b[0m\u001b[0;34m,\u001b[0m \u001b[0mh\u001b[0m\u001b[0;34m[\u001b[0m\u001b[0mt_i\u001b[0m\u001b[0;34m,\u001b[0m \u001b[0mt_f\u001b[0m\u001b[0;34m]\u001b[0m\u001b[0;34m,\u001b[0m \u001b[0mn\u001b[0m\u001b[0;34m[\u001b[0m\u001b[0mt_i\u001b[0m\u001b[0;34m,\u001b[0m \u001b[0mt_f\u001b[0m\u001b[0;34m]\u001b[0m\u001b[0;34m)\u001b[0m\u001b[0;34m]\u001b[0m\u001b[0;34m)\u001b[0m\u001b[0;34m\u001b[0m\u001b[0m\n\u001b[0m\u001b[1;32m     19\u001b[0m \u001b[0mplt\u001b[0m\u001b[0;34m.\u001b[0m\u001b[0mlegend\u001b[0m\u001b[0;34m(\u001b[0m\u001b[0;34m)\u001b[0m\u001b[0;34m\u001b[0m\u001b[0m\n\u001b[1;32m     20\u001b[0m \u001b[0mplt\u001b[0m\u001b[0;34m.\u001b[0m\u001b[0mshow\u001b[0m\u001b[0;34m(\u001b[0m\u001b[0;34m)\u001b[0m\u001b[0;34m\u001b[0m\u001b[0m\n",
      "\u001b[0;31mIndexError\u001b[0m: too many indices for array"
     ]
    }
   ],
   "source": [
    "# plot & show solution\n",
    "plt.figure(1)\n",
    "plt.plot(soln.t, V, 'g') # a V, t plot\n",
    "f, (ax1, ax2, ax3) = plt.subplots(3, sharex = True)\n",
    "# plt.plot(soln.t, [I_Na(i, j, k) for i,j,k in zip(V, m, h)], 'blue', label='sodium current')\n",
    "# plt.plot(soln.t, [I_K(i, j) for i,j in zip(V, n)], 'red', label='potassium current')\n",
    "# plt.plot(soln.t, [I_l(i) for i in V], 'green', label='leak current')\n",
    "t_i = 13\n",
    "t_f = 28\n",
    "ax1.plot(soln.t[t_i:t_f], [I_Na(i,j,k) + I_K(i,l) + I_l(i) for i,j,k,l in zip(V[t_i:t_f],m[t_i:t_f],h[t_i:t_f],n[t_i:t_f])], 'g', label='Ion currents')\n",
    "ax1.set_ylabel('Current (uA)')\n",
    "ax1.set_xlabel('Time (ms)')\n",
    "ax2.plot(soln.t[t_i:t_f], m[t_i:t_f], 'b', label='m')\n",
    "ax2.plot(soln.t[t_i:t_f], h[t_i:t_f], 'y', label='h')\n",
    "ax2.plot(soln.t[t_i:t_f], n[t_i:t_f], 'r', label='n')\n",
    "ax2.set_ylabel('Probability')\n",
    "ax2.set_xlabel('Time (ms)')\n",
    "ax3.plot(soln.t[t_i:t_f], [m_i - ((1 - h_i) + n_i) for m_i, h_i, n_i in zip(m[t_i:t_f], h[t_i:t_f], n[t_i:t_f])])\n",
    "plt.legend()\n",
    "plt.show()"
   ]
  },
  {
   "cell_type": "code",
   "execution_count": null,
   "metadata": {
    "collapsed": true
   },
   "outputs": [],
   "source": []
  }
 ],
 "metadata": {
  "kernelspec": {
   "display_name": "Python [conda env:anaconda3]",
   "language": "python",
   "name": "conda-env-anaconda3-py"
  },
  "language_info": {
   "codemirror_mode": {
    "name": "ipython",
    "version": 3
   },
   "file_extension": ".py",
   "mimetype": "text/x-python",
   "name": "python",
   "nbconvert_exporter": "python",
   "pygments_lexer": "ipython3",
   "version": "3.5.2"
  }
 },
 "nbformat": 4,
 "nbformat_minor": 2
}
